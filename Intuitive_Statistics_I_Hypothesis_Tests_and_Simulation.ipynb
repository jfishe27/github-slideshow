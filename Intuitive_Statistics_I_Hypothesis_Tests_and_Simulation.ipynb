{
  "cells": [
    {
      "cell_type": "markdown",
      "metadata": {
        "id": "view-in-github",
        "colab_type": "text"
      },
      "source": [
        "<a href=\"https://colab.research.google.com/github/jfishe27/github-slideshow/blob/master/Intuitive_Statistics_I_Hypothesis_Tests_and_Simulation.ipynb\" target=\"_parent\"><img src=\"https://colab.research.google.com/assets/colab-badge.svg\" alt=\"Open In Colab\"/></a>"
      ]
    },
    {
      "cell_type": "markdown",
      "id": "82b6f627",
      "metadata": {
        "id": "82b6f627"
      },
      "source": [
        "# Intuitive Statistics with SciPy\n",
        "\n",
        "\n",
        "We will learn to perform statistical analysis through computer simulation. No prior statistical background is assumed.\n",
        "\n",
        "\n",
        "### Contents\n",
        "\n",
        "* Introduction to hypothesis tests\n",
        "* Monte-Carlo tests\n",
        "* [Permutation tests](https://colab.research.google.com/drive/1wdrTtW8AxPcwNnCjyEteGhJxRx_szbnJ)\n",
        "* [The Bootstrap](https://colab.research.google.com/drive/1woji3v387VupHvnbNMgJaqlu_EChzseX)\n",
        "\n"
      ]
    },
    {
      "cell_type": "markdown",
      "id": "8df0330a",
      "metadata": {
        "id": "8df0330a"
      },
      "source": [
        "## Hypothesis Tests\n",
        "\n",
        "Let's try to build up the idea of a hypothesis test from first principles.\n",
        "\n",
        "\n",
        "### The toss of a coin\n",
        "\n",
        "* We often say the outcome of a coin toss, heads or tails, is random.\n",
        "* What is randomness?\n",
        "* Given the available information, there are no patterns that would let us predict the outcome."
      ]
    },
    {
      "cell_type": "markdown",
      "id": "79b6a354",
      "metadata": {
        "id": "79b6a354"
      },
      "source": [
        "### Basic Notions\n",
        "\n",
        "Imagine we toss a coin repeatedly.\n",
        "\n",
        "* We expect a fair coin to come up heads as often as it comes up tails and say the **Probability** of heads is $p = 0.5$\n",
        "* For a weighted coin, if the probability of heads is $p$ then as the number of tosses grows, we expect a proportion $p$ of the outcomes to be heads.\n",
        "\n",
        "This is [Frequentist Probability](https://en.wikipedia.org/wiki/Frequentist_probability).\n",
        "\n",
        "An event's probability is the limit of its frequency as the number of trials goes to infinity.\n",
        "\n",
        "* **Independence**: The outcome of one toss doesn't depend on the outcome of any prior tosses."
      ]
    },
    {
      "cell_type": "markdown",
      "id": "1f03b0dd",
      "metadata": {
        "id": "1f03b0dd"
      },
      "source": [
        "## Can you generate random numbers?\n",
        "\n",
        "Using only your mind, try to simulate 50 independent tosses of a fair coin. Fill in the empty string below, enter \"1\" for heads and \"0\" for tails. There are 50 x's in the comment to help you get the length right."
      ]
    },
    {
      "cell_type": "code",
      "execution_count": null,
      "id": "c1d2ac43",
      "metadata": {
        "id": "c1d2ac43"
      },
      "outputs": [],
      "source": [
        "import matplotlib.pyplot as plt\n",
        "import numpy as np\n",
        "import scipy.stats as stats\n",
        "\n",
        "#         xxxxxxxxxxxxxxxxxxxxxxxxxxxxxxxxxxxxxxxxxxxxxxxxxx\n",
        "tosses = \"10100110101011110101010111111010011010101001101001\"\n",
        "\n",
        "# Validate coin tosses and covert to array\n",
        "assert len(tosses) == 50 and set(tosses) <= {\"0\", \"1\"}\n",
        "tosses = np.array(list(tosses), dtype=int)\n",
        "tosses"
      ]
    },
    {
      "cell_type": "markdown",
      "id": "d449ec84",
      "metadata": {
        "id": "d449ec84"
      },
      "source": [
        "## Can computers generate random numbers?\n",
        "\n",
        "*Anyone who considers arithmetical methods of producing random digits is, of course, in a state of sin.*\n",
        "\n",
        "John Von Neumann\n",
        "\n",
        "* A curious fact in math:\n",
        "  * some deterministic arithmetical processes can produce numbers which appear \"random\"\n",
        "* but if we know the algorithm we can predict the next number.\n",
        "* For many applications this is sufficient."
      ]
    },
    {
      "cell_type": "markdown",
      "id": "f2146b20",
      "metadata": {
        "id": "f2146b20"
      },
      "source": [
        "### Example\n",
        "\n",
        "[Linear Congruential Generator](https://en.wikipedia.org/wiki/Linear_congruential_generator)\n",
        "\n",
        "Values are generated with a simple first order recurrence\n",
        "\n",
        "$$T_n = (aT_{n-1} + c)\\: \\% \\: \\mathrm{modulus}$$\n",
        "\n",
        "for integer constants $a$, $c$, and $\\mathrm{modulus}$.\n",
        "\n",
        "The initial value $T_0$ is called the $\\mathrm{seed}$.\n",
        "\n",
        "NumPy uses a related algorithm called the [Permuted Congruential Generator](https://en.wikipedia.org/wiki/Permuted_congruential_generator)."
      ]
    },
    {
      "cell_type": "code",
      "execution_count": null,
      "id": "6f6ec440",
      "metadata": {
        "id": "6f6ec440"
      },
      "outputs": [],
      "source": [
        "class LCG:\n",
        "    \"\"\"Linear Congruential Generator.\"\"\"\n",
        "    def __init__(self, seed, *, modulus=2**32, a=1664525, c=1013904223):\n",
        "        self.modulus = modulus\n",
        "        self.a = a\n",
        "        self.c = c\n",
        "        self.seed = seed\n",
        "\n",
        "    def set_seed(self, n):\n",
        "        self.seed = n\n",
        "\n",
        "    def integer(self):\n",
        "        self.seed = (self.a * self.seed + self.c) % self.modulus\n",
        "        return self.seed\n",
        "\n",
        "    def uniform(self):\n",
        "        N = self.integer()\n",
        "        return N / (self.modulus - 1)\n",
        "\n",
        "    def coin_toss(self, p=0.5):\n",
        "        return 1 if self.uniform() > 0.5 else 0"
      ]
    },
    {
      "cell_type": "code",
      "execution_count": null,
      "id": "cb5651af",
      "metadata": {
        "id": "cb5651af"
      },
      "outputs": [],
      "source": [
        "lcg = LCG(42)"
      ]
    },
    {
      "cell_type": "code",
      "execution_count": null,
      "id": "2704ffc5",
      "metadata": {
        "id": "2704ffc5"
      },
      "outputs": [],
      "source": [
        "pseudorandom_numbers = np.array([lcg.uniform() for _ in range(10)])\n",
        "pseudorandom_numbers"
      ]
    },
    {
      "cell_type": "code",
      "execution_count": null,
      "id": "b7442d30",
      "metadata": {
        "id": "b7442d30"
      },
      "outputs": [],
      "source": [
        "plt.hist([lcg.uniform() for _ in range(1000)], density=True, edgecolor=\"black\", bins=np.arange(0, 1.1, 0.1))"
      ]
    },
    {
      "cell_type": "markdown",
      "id": "eda26ba8",
      "metadata": {
        "id": "eda26ba8"
      },
      "source": [
        "### Probability Distributions\n",
        "\n",
        "* Discrete Distribution\n",
        "\n",
        "* Continuous Distribution"
      ]
    },
    {
      "cell_type": "markdown",
      "id": "fae86fff",
      "metadata": {
        "id": "fae86fff"
      },
      "source": [
        "## Testing if a coin is unfair (Code along)\n",
        "\n",
        "* If fair, we expect as many heads as tails:\n",
        "* Flip the coin a fixed number of times and calculate the number of heads. If the coin is fair this should be roughly equal to the number of tails.\n",
        "* The actual number of heads is up to chance.\n",
        "\n",
        "### How to make this idea into a formal test?\n",
        "* Suppose we have a coin we know is fair.\n",
        "    * If we flip it 50 times, we wouldn't be that surprised if it came up heads 23 times, 24 times, or 27 times.\n",
        "    * It would be really surpising if it came up heads only twice, 41 times, or not at all.\n",
        "    * Why?\n",
        "* **Hypothesis Test**.\n",
        "    * Take the coin we're testing and flip it 20 times and count the heads.\n",
        "    * Imagine we'd flipped a fair coin. What's the probability *p* of observing a number of heads that's at least as extreme?\n",
        "* This probability is called the **p-value**. The assumption of a fair coin is called the **Null Hypothesis.** The number of heads is an example of a **Test Statistic**.\n",
        "\n",
        "### Calculating a p-value.\n",
        "* In an intro stats class, p-values are usually computed or approximated by analytic means.\n",
        "* Since computers can generated good enough \"random\" numbers, instead we can simulate repeated trials to approximate a frequentist probability.\n"
      ]
    },
    {
      "cell_type": "code",
      "execution_count": null,
      "id": "24e20f4c",
      "metadata": {
        "id": "24e20f4c"
      },
      "outputs": [],
      "source": [
        "# We can use our random number generator above to simulate 50 tosses of a fair coin.\n",
        "lcg = LCG(42)\n",
        "np.array([lcg.coin_toss() for _ in range(50)])"
      ]
    },
    {
      "cell_type": "code",
      "execution_count": null,
      "id": "48580536",
      "metadata": {
        "id": "48580536"
      },
      "outputs": [],
      "source": [
        "# With a computer it doesn't take long to run 100000 simulations."
      ]
    },
    {
      "cell_type": "code",
      "execution_count": null,
      "id": "b166d460",
      "metadata": {
        "id": "b166d460"
      },
      "outputs": [],
      "source": [
        "# The Null distribution\n",
        "plt.figure(figsize=(10, 7))\n",
        "plt.hist(simulated_statistics, density=True, edgecolor=\"black\", bins=np.arange(0, 51), align=\"left\")\n",
        "plt.xticks(np.arange(0, 51, 2))\n",
        "plt.show()"
      ]
    },
    {
      "cell_type": "code",
      "execution_count": null,
      "id": "9243edce",
      "metadata": {
        "id": "9243edce"
      },
      "outputs": [],
      "source": [
        "# How many heads were observed out of 50 tosses?\n",
        "\n",
        "# Probability this many heads or fewer\n",
        "\n",
        "# Probability of this many heads or more\n",
        "\n",
        "# Take the minimum of these probabalities. Multiply by 2 to adjust for multiple comparisons.\n",
        "# Clip for edge case where num_heads is equal to the expected value."
      ]
    },
    {
      "cell_type": "markdown",
      "id": "3dddd76d",
      "metadata": {
        "id": "3dddd76d"
      },
      "source": [
        "### Tail Probability in the Null Distribution"
      ]
    },
    {
      "cell_type": "code",
      "execution_count": null,
      "id": "9595a1e4",
      "metadata": {
        "id": "9595a1e4"
      },
      "outputs": [],
      "source": [
        "def plot_null_distribution(simulated_statistics, bins, observed_statistic):\n",
        "    \"\"\"Plot simulated null distribution.\"\"\"\n",
        "    # Find which tail is smallest\n",
        "    left_tail_prob = np.sum(simulated_statistics <= observed_statistic) / len(simulated_statistics)\n",
        "    right_tail_prob = np.sum(simulated_statistics >= observed_statistic) / len(simulated_statistics)\n",
        "    tail_idx = np.argmin((left_tail_prob, right_tail_prob))\n",
        "    tail = \"right\" if tail_idx == 1 else \"left\"\n",
        "\n",
        "    plt.figure(figsize=(10, 7))\n",
        "    counts, bins = np.histogram(simulated_statistics, bins=bins, density=True)\n",
        "    bin_pairs = np.column_stack((bins[:-1], bins[1:]))\n",
        "    for bin_pair, count in zip(bin_pairs, counts):\n",
        "        if tail == \"left\":\n",
        "            color = \"C0\" if bin_pair[0] > observed_statistic else \"C1\"\n",
        "        else:\n",
        "            color = \"C0\" if bin_pair[0] < observed_statistic else \"C1\"\n",
        "        plt.bar(bin_pair[0], count, width=bin_pair[1] - bin_pair[0], edgecolor=\"black\", color=color)\n",
        "    plt.xticks(np.arange(bins[0], bins[-1], 2))\n",
        "    plt.show()\n",
        "\n",
        "\n",
        "\n",
        "plot_null_distribution(simulated_statistics, np.arange(0, 51), num_heads)"
      ]
    },
    {
      "cell_type": "markdown",
      "id": "e5c514a5",
      "metadata": {
        "id": "e5c514a5"
      },
      "source": [
        "## Running Simulations with SciPy (Code Along)\n",
        "\n",
        "`scipy.stats.monte_carlo_test` streamlines the process of running the above test."
      ]
    },
    {
      "cell_type": "code",
      "execution_count": null,
      "id": "9a20d243",
      "metadata": {
        "id": "9a20d243"
      },
      "outputs": [],
      "source": [
        "stats.binom.rvs(1, 0.5, size=50)"
      ]
    },
    {
      "cell_type": "code",
      "execution_count": null,
      "id": "5436b044",
      "metadata": {
        "id": "5436b044"
      },
      "outputs": [],
      "source": [
        "stats.monte_carlo_test?"
      ]
    },
    {
      "cell_type": "code",
      "execution_count": null,
      "id": "b90edf37",
      "metadata": {
        "id": "b90edf37"
      },
      "outputs": [],
      "source": [
        "# result =\n",
        "# result"
      ]
    },
    {
      "cell_type": "code",
      "execution_count": null,
      "id": "24bed1b3",
      "metadata": {
        "id": "24bed1b3"
      },
      "outputs": [],
      "source": [
        "# The Null distribution\n",
        "plt.figure(figsize=(10, 7))\n",
        "plt.hist(result.null_distribution, density=True, edgecolor=\"black\", bins=np.arange(0, 51))\n",
        "plt.xticks(np.arange(0, 51, 2))\n",
        "plt.show()"
      ]
    },
    {
      "cell_type": "markdown",
      "id": "b39d1566",
      "metadata": {
        "id": "b39d1566"
      },
      "source": [
        "## Testing for Randomness\n",
        "\n",
        "* Given a sequence of `1`s and `0`s, how can we test for randomness?\n",
        "* A sequence is random from our point of view if, given the information at hand, there's no algorithm we can use to predict the next outcome at a probability better than chance.\n",
        "\n",
        "### Intuitive Statistics Approach\n",
        "\n",
        "* Try to think up a test statistic which is sensitive to randomness.\n",
        "* Repeatedly simulate a random sequence and record values of the simulated test statistics.\n",
        "* How often is simulated test statistic at least as surprising as the actual value?\n",
        "\n",
        "### Exercise\n",
        "Let's all try to put what we've learned into practice. Try to implement a test for randomness using `stats.monte_carlo_test`."
      ]
    },
    {
      "cell_type": "code",
      "execution_count": null,
      "id": "8a6f6484",
      "metadata": {
        "id": "8a6f6484"
      },
      "outputs": [],
      "source": []
    },
    {
      "cell_type": "code",
      "execution_count": null,
      "id": "4976c1aa",
      "metadata": {
        "id": "4976c1aa"
      },
      "outputs": [],
      "source": [
        "# result ="
      ]
    },
    {
      "cell_type": "code",
      "execution_count": null,
      "id": "987f55db",
      "metadata": {
        "id": "987f55db"
      },
      "outputs": [],
      "source": [
        "plot_null_distribution(result.null_distribution, np.arange(1, 51), result.statistic)"
      ]
    },
    {
      "cell_type": "markdown",
      "source": [
        "[Next: Permutation tests](https://colab.research.google.com/drive/1wdrTtW8AxPcwNnCjyEteGhJxRx_szbnJ)"
      ],
      "metadata": {
        "id": "r0wXPe1eEqFd"
      },
      "id": "r0wXPe1eEqFd"
    }
  ],
  "metadata": {
    "kernelspec": {
      "display_name": "Python 3 (ipykernel)",
      "language": "python",
      "name": "python3"
    },
    "language_info": {
      "codemirror_mode": {
        "name": "ipython",
        "version": 3
      },
      "file_extension": ".py",
      "mimetype": "text/x-python",
      "name": "python",
      "nbconvert_exporter": "python",
      "pygments_lexer": "ipython3",
      "version": "3.9.2"
    },
    "colab": {
      "provenance": [],
      "include_colab_link": true
    }
  },
  "nbformat": 4,
  "nbformat_minor": 5
}